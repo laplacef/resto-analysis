{
 "cells": [
  {
   "cell_type": "code",
   "execution_count": null,
   "metadata": {},
   "outputs": [],
   "source": [
    "# Load modules.\n",
    "from modules.database_connector import DatabaseConnector as dc\n",
    "from modules.data_analysis import DataAnalysis as da"
   ]
  },
  {
   "cell_type": "code",
   "execution_count": null,
   "metadata": {},
   "outputs": [],
   "source": [
    "# Connect to database.\n",
    "engine = dc().sqlserver_engine(database_name='dd')\n",
    "dc().create_db(engine)\n"
   ]
  },
  {
   "cell_type": "code",
   "execution_count": null,
   "metadata": {},
   "outputs": [],
   "source": [
    "# Load Excel data. (File must be closed)\n",
    "parenting_df = da().load_excel_data(filename='data.xlsx', sheet_name='Parenting')\n",
    "duplicates_df =da().load_excel_data(filename='data.xlsx', sheet_name='Duplicates')"
   ]
  },
  {
   "cell_type": "code",
   "execution_count": null,
   "metadata": {},
   "outputs": [],
   "source": [
    "# Send parenting df to database.\n",
    "try:\n",
    "    parenting_df.to_sql('parenting', engine, if_exists='fail')\n",
    "except:\n",
    "    print(f'Table Exists')\n",
    "else:\n",
    "    print('Table Created/Updated')\n",
    "\n",
    "# Send duplicates df to database.\n",
    "try:\n",
    "    duplicates_df.to_sql('duplicates', engine, if_exists='fail')\n",
    "except:\n",
    "    print(f'Table Exists')\n",
    "else:\n",
    "    print('Table Created/Updated')"
   ]
  },
  {
   "cell_type": "code",
   "execution_count": null,
   "metadata": {},
   "outputs": [],
   "source": [
    "parenting_df.info()"
   ]
  },
  {
   "cell_type": "code",
   "execution_count": null,
   "metadata": {},
   "outputs": [],
   "source": [
    "duplicates_df.info()"
   ]
  },
  {
   "cell_type": "code",
   "execution_count": null,
   "metadata": {},
   "outputs": [],
   "source": [
    "grouped_parents_df = parenting_df.pivot_table(index=['CHD PID', 'CHD Owner PID', 'CHD ID'], values=['Account Name'], aggfunc='count').sort_values(by='Account Name',ascending=False)\n",
    "grouped_parents_df"
   ]
  }
 ],
 "metadata": {
  "interpreter": {
   "hash": "42fb83af28231df7155db2dda733c7bd2c438920173296fe37a0a0326d58f881"
  },
  "kernelspec": {
   "display_name": "Python 3.9.7 ('doordash')",
   "language": "python",
   "name": "python3"
  },
  "language_info": {
   "codemirror_mode": {
    "name": "ipython",
    "version": 3
   },
   "file_extension": ".py",
   "mimetype": "text/x-python",
   "name": "python",
   "nbconvert_exporter": "python",
   "pygments_lexer": "ipython3",
   "version": "3.9.7"
  },
  "orig_nbformat": 4
 },
 "nbformat": 4,
 "nbformat_minor": 2
}
